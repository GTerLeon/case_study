{
 "cells": [
  {
   "cell_type": "code",
   "execution_count": 2,
   "metadata": {},
   "outputs": [],
   "source": [
    "from detectFD import calculate_conditional_entropy_matrix, discover_functional_dependencies\n",
    "import pandas as pd\n",
    "import numpy as np\n",
    "from sklearn.preprocessing import LabelEncoder\n",
    "from scipy.stats import entropy\n",
    "import seaborn as sns\n",
    "import matplotlib.pyplot as plt\n"
   ]
  },
  {
   "cell_type": "markdown",
   "metadata": {},
   "source": []
  },
  {
   "cell_type": "markdown",
   "metadata": {},
   "source": [
    "Let's first create a synthetic dataset with clear functional dependencies to test out the implementation.\n",
    "\n",
    "A->B: where B is x2 the value of A\n",
    "\n",
    "F->G: G is F+10\n",
    "\n",
    "C,D -> E: E is the concatenation of C and D"
   ]
  },
  {
   "cell_type": "code",
   "execution_count": 3,
   "metadata": {},
   "outputs": [],
   "source": [
    "n_rows = 100\n",
    "df = pd.DataFrame({'A': np.random.randint(1, 4, n_rows)})\n",
    "\n",
    "df['B'] = df['A'] * 2\n",
    "\n",
    "df['C'] = np.random.randint(1, 4, n_rows)\n",
    "df['D'] = np.random.randint(1, 4, n_rows)\n",
    "\n",
    "df['E'] = df['C'] * 2 * df['D']\n",
    "\n",
    "df['F'] = np.random.randint(1, 4, n_rows)\n",
    "df['G'] = df['F'] + 10"
   ]
  },
  {
   "cell_type": "code",
   "execution_count": 4,
   "metadata": {},
   "outputs": [],
   "source": [
    "# Calculate entropy matrix and find dependencies\n",
    "feature_names = list(df.columns)\n",
    "entropy_matrix = calculate_conditional_entropy_matrix(df)\n",
    "dependencies = discover_functional_dependencies(entropy_matrix, feature_names)"
   ]
  },
  {
   "cell_type": "code",
   "execution_count": 5,
   "metadata": {},
   "outputs": [
    {
     "name": "stdout",
     "output_type": "stream",
     "text": [
      "Conditional Entropy Matrix:\n",
      "          A         B         C         D         E         F         G\n",
      "A  0.000000  0.000000  1.564619  1.534156  1.489918  1.500608  1.500608\n",
      "B  0.000000  0.000000  1.564619  1.534156  1.489918  1.500608  1.500608\n",
      "C  1.568349  1.568349  0.000000  1.553303  0.624044  1.565811  1.565811\n",
      "D  1.534990  1.534990  1.550408  0.000000  0.624044  1.568817  1.568817\n",
      "E  2.420012  2.420012  1.550408  1.553303  0.000000  2.441244  2.441244\n",
      "F  1.495786  1.495786  1.557260  1.563161  1.506329  0.000000  0.000000\n",
      "G  1.495786  1.495786  1.557260  1.563161  1.506329  0.000000  0.000000\n",
      "\n",
      "Functional Dependencies:\n",
      "A <- ['B']\n",
      "B <- ['A']\n",
      "C <- []\n",
      "D <- []\n",
      "E <- []\n",
      "F <- ['G']\n",
      "G <- ['F']\n"
     ]
    }
   ],
   "source": [
    "print(\"Conditional Entropy Matrix:\")\n",
    "print(pd.DataFrame(entropy_matrix, columns=feature_names, index=feature_names))\n",
    "print(\"\\nFunctional Dependencies:\")\n",
    "for key, value in dependencies.items():\n",
    "    print(f\"{key} <- {value}\")"
   ]
  },
  {
   "cell_type": "markdown",
   "metadata": {},
   "source": [
    "Now let's try on a familiarly used dataset: the iris dataset that contains 4 functional dependencies"
   ]
  },
  {
   "cell_type": "code",
   "execution_count": 6,
   "metadata": {},
   "outputs": [],
   "source": [
    "data = pd.read_csv('data/iris.csv')\n",
    "feature_names = ['sepal length', 'sepal width', 'petal length', 'petal width', 'species']\n",
    "data.columns = feature_names"
   ]
  },
  {
   "cell_type": "code",
   "execution_count": 7,
   "metadata": {},
   "outputs": [],
   "source": [
    "cond_entropy_matrix = calculate_conditional_entropy_matrix(data)\n",
    "feature_names = data.columns\n",
    "dependencies = discover_functional_dependencies(cond_entropy_matrix, feature_names)\n"
   ]
  },
  {
   "cell_type": "code",
   "execution_count": 8,
   "metadata": {},
   "outputs": [
    {
     "name": "stdout",
     "output_type": "stream",
     "text": [
      "\n",
      "Optimized Conditional Entropy Matrix:\n",
      "              sepal length  sepal width  petal length  petal width   species\n",
      "sepal length      0.000000     2.730817      1.807135     2.554367  3.953279\n",
      "sepal width       1.910848     0.000000      1.780289     2.310310  3.503047\n",
      "petal length      2.023297     2.816421      0.000000     2.327848  3.597454\n",
      "petal width       1.804309     2.380221      1.361628     0.000000  2.641723\n",
      "species           0.711563     1.081301      0.139576     0.150065  0.000000\n",
      "\n",
      "Functional Dependencies:\n",
      "sepal length <- []\n",
      "sepal width <- []\n",
      "petal length <- []\n",
      "petal width <- []\n",
      "species <- ['petal length', 'petal width']\n"
     ]
    }
   ],
   "source": [
    "print(\"\\nOptimized Conditional Entropy Matrix:\")\n",
    "print(pd.DataFrame(cond_entropy_matrix, columns=feature_names, index=feature_names))\n",
    "\n",
    "print(\"\\nFunctional Dependencies:\")\n",
    "for key, value in dependencies.items():\n",
    "    print(f\"{key} <- {value}\")"
   ]
  },
  {
   "cell_type": "markdown",
   "metadata": {},
   "source": [
    "test for the dataset ncvoter"
   ]
  },
  {
   "cell_type": "code",
   "execution_count": 14,
   "metadata": {},
   "outputs": [],
   "source": [
    "df = pd.read_csv('data/ncvoter_1001r_19c.csv', header=None)\n"
   ]
  },
  {
   "cell_type": "code",
   "execution_count": 15,
   "metadata": {},
   "outputs": [
    {
     "name": "stdout",
     "output_type": "stream",
     "text": [
      "Int64Index([0, 1, 2, 3, 4, 5, 6, 7, 8, 9, 10, 11, 12, 13, 14, 15, 16, 17, 18], dtype='int64')\n"
     ]
    }
   ],
   "source": [
    "cond = calculate_conditional_entropy_matrix(df)\n",
    "\n",
    "feature_names = df.columns\n",
    "\n",
    "print(feature_names)\n",
    "dependencies = discover_functional_dependencies(cond,feature_names )"
   ]
  },
  {
   "cell_type": "code",
   "execution_count": 16,
   "metadata": {},
   "outputs": [
    {
     "name": "stdout",
     "output_type": "stream",
     "text": [
      "\n",
      "Optimized Conditional Entropy Matrix:\n",
      "          0         1         2         3         4         5         6   \\\n",
      "0   0.000000  0.000000  9.774893  1.722083  2.777436  0.913465  9.649120   \n",
      "1   0.000000  0.000000  9.774893  1.722083  2.777436  0.913465  9.649120   \n",
      "2   0.000000  0.000000  0.000000  0.062718  0.108874  0.025136  0.177120   \n",
      "3   0.000000  0.000000  8.115528  0.000000  2.679270  0.895483  8.043456   \n",
      "4   0.001998  0.001998  7.108329  1.625914  0.000000  0.882741  7.008321   \n",
      "5   0.000000  0.000000  8.886564  1.704101  2.744714  0.000000  8.797908   \n",
      "6   0.000000  0.000000  0.302894  0.116420  0.134640  0.062253  0.000000   \n",
      "7   0.000000  0.000000  4.843713  1.465655  2.016943  0.824045  4.839787   \n",
      "8   0.000000  0.000000  0.973042  0.079906  0.492086  0.385563  0.930060   \n",
      "9   0.000000  0.000000  0.432665  0.146268  0.205901  0.066102  0.433970   \n",
      "10  0.000000  0.000000  0.310813  0.130003  0.103942  0.048690  0.309712   \n",
      "11  0.001998  0.001998  9.694219  1.724081  2.773440  0.853525  9.568446   \n",
      "12  0.000000  0.000000  6.388784  1.577208  2.287839  0.717847  6.358187   \n",
      "13  0.000000  0.000000  0.000000  0.000000  0.000000  0.000000  0.000000   \n",
      "14  0.000000  0.000000  6.808577  1.647403  2.395699  0.740089  6.764193   \n",
      "15  0.001998  0.001998  3.971064  0.894880  0.997319  0.463121  3.890462   \n",
      "16  0.000000  0.000000  1.415285  0.503171  0.610773  0.265749  1.405921   \n",
      "17  0.000000  0.000000  6.073733  1.505367  2.260017  0.766818  5.986471   \n",
      "18  0.001998  0.001998  1.077742  0.574990  0.617527  0.354561  1.080920   \n",
      "\n",
      "          7         8         9         10        11        12        13  \\\n",
      "0   5.041295  8.960816  9.518088  9.642849  0.086668  3.479233  9.953830   \n",
      "1   5.041295  8.960816  9.518088  9.642849  0.086668  3.479233  9.953830   \n",
      "2   0.110114  0.158965  0.175860  0.178769  0.003996  0.093124  0.178937   \n",
      "3   4.784867  7.318639  7.942273  8.050769  0.086668  3.334358  8.231748   \n",
      "4   4.282800  6.677464  6.948551  6.971352  0.082672  2.991634  7.178392   \n",
      "5   4.951875  8.432914  8.670725  8.778074  0.024730  3.283615  9.040366   \n",
      "6   0.231962  0.241756  0.302938  0.303441  0.003996  0.188300  0.304711   \n",
      "7   0.000000  4.816035  4.740161  4.827595  0.066688  2.391380  4.912535   \n",
      "8   0.896514  0.000000  0.974480  0.976892  0.067932  0.769880  0.993014   \n",
      "9   0.263368  0.417209  0.000000  0.418115  0.004750  0.193503  0.435743   \n",
      "10  0.226041  0.294860  0.293354  0.000000  0.006748  0.167362  0.310982   \n",
      "11  5.023313  8.944078  9.438168  9.564927  0.000000  3.394563  9.869160   \n",
      "12  3.953442  6.251463  6.232358  6.330978  0.000000  0.000000  6.474598   \n",
      "13  0.000000  0.000000  0.000000  0.000000  0.000000  0.000000  0.000000   \n",
      "14  4.222440  6.641853  6.635574  6.733285  0.000000  0.438850  6.900419   \n",
      "15  2.196087  3.656346  3.821116  3.871399  0.021978  1.400160  3.994974   \n",
      "16  0.996960  1.397111  1.390554  1.382255  0.011234  0.488240  1.427417   \n",
      "17  3.625897  5.815999  5.811389  5.978151  0.046708  2.355428  6.118944   \n",
      "18  0.855464  1.068379  1.061626  1.074775  0.041958  0.779223  1.084079   \n",
      "\n",
      "          14        15        16        17        18  \n",
      "0   3.053411  5.960854  8.526413  3.834886  8.871750  \n",
      "1   3.053411  5.960854  8.526413  3.834886  8.871750  \n",
      "2   0.087095  0.155027  0.166805  0.133727  0.172600  \n",
      "3   2.978731  5.131653  7.307502  3.618170  7.722658  \n",
      "4   2.673672  4.180737  6.361748  3.319465  6.711840  \n",
      "5   2.880036  5.508512  7.878697  3.688239  8.310848  \n",
      "6   0.168484  0.200198  0.283214  0.172238  0.301552  \n",
      "7   2.234557  3.113648  4.482078  2.419489  4.683921  \n",
      "8   0.734448  0.654387  0.962708  0.690069  0.977315  \n",
      "9   0.170897  0.261885  0.398880  0.128188  0.413290  \n",
      "10  0.143848  0.187407  0.265820  0.170189  0.301678  \n",
      "11  2.968741  5.896164  8.452977  3.796924  8.827040  \n",
      "12  0.013028  3.879783  5.535421  2.711082  6.169741  \n",
      "13  0.000000  0.000000  0.000000  0.000000  0.000000  \n",
      "14  0.000000  4.194892  5.887290  2.920441  6.580644  \n",
      "15  1.289447  0.000000  3.420594  1.623152  3.631087  \n",
      "16  0.414288  0.853037  0.000000  0.623751  1.387651  \n",
      "17  2.138965  3.747122  5.315277  0.000000  5.762700  \n",
      "18  0.764303  0.720191  1.044312  0.727835  0.000000  \n",
      "\n",
      "Functional Dependencies:\n",
      "0 <- [1, 11]\n",
      "1 <- [0]\n",
      "2 <- [0, 1, 3, 4, 5, 6, 7, 8, 9, 10, 11, 12, 13, 14, 15, 16, 17, 18]\n",
      "3 <- [0, 1, 11]\n",
      "4 <- [0, 1, 11]\n",
      "5 <- [0, 1, 11]\n",
      "6 <- [0, 1, 2, 3, 4, 5, 7, 8, 9, 10, 11, 12, 13, 14, 15, 16, 17, 18]\n",
      "7 <- [0, 1, 11]\n",
      "8 <- [0, 1, 3, 4, 5, 11]\n",
      "9 <- [0, 1, 2, 3, 4, 5, 6, 7, 8, 10, 11, 12, 13, 14, 15, 16, 17, 18]\n",
      "10 <- [0, 1, 2, 3, 4, 5, 6, 7, 8, 9, 11, 12, 13, 14, 15, 16, 17, 18]\n",
      "11 <- [0, 1]\n",
      "12 <- [0, 1, 11, 14]\n",
      "13 <- [0, 1, 2, 3, 4, 5, 6, 7, 8, 9, 10, 11, 12, 14, 15, 16, 17, 18]\n",
      "14 <- [0, 1, 11, 12]\n",
      "15 <- [0, 1, 5, 11]\n",
      "16 <- [0, 1, 3, 5, 11, 12, 14]\n",
      "17 <- [0, 1, 11]\n",
      "18 <- [0, 1, 3, 5, 11]\n"
     ]
    }
   ],
   "source": [
    "print(\"\\nOptimized Conditional Entropy Matrix:\")\n",
    "print(pd.DataFrame(cond, columns=feature_names, index=feature_names))\n",
    "\n",
    "print(\"\\nFunctional Dependencies:\")\n",
    "for key, value in dependencies.items():\n",
    "    print(f\"{key} <- {value}\")"
   ]
  },
  {
   "cell_type": "markdown",
   "metadata": {},
   "source": [
    "Let's study the case of the uce dataset"
   ]
  },
  {
   "cell_type": "code",
   "execution_count": 9,
   "metadata": {},
   "outputs": [],
   "source": [
    "df = pd.read_csv('data/uce-results-by-school-2011-2015.csv')\n",
    "\n",
    "#select only div columns\n",
    "div_columns = [col for col in df.columns if 'DIV' in col and '%' in col]\n",
    "div_df = df[div_columns].copy()\n",
    "\n",
    "#remove % and convert to numeric\n",
    "for col in div_df.columns:\n",
    "    div_df[col] = pd.to_numeric(div_df[col].astype(str).str.replace('%', ''), errors='coerce')"
   ]
  },
  {
   "cell_type": "code",
   "execution_count": 10,
   "metadata": {},
   "outputs": [],
   "source": [
    "entropy_matrix = calculate_conditional_entropy_matrix(div_df)\n",
    "dependencies = discover_functional_dependencies(entropy_matrix, div_df.columns)"
   ]
  },
  {
   "cell_type": "code",
   "execution_count": 11,
   "metadata": {},
   "outputs": [
    {
     "name": "stdout",
     "output_type": "stream",
     "text": [
      "Conditional Entropy Matrix:\n",
      "          0         1         2         3         4         5         6   \\\n",
      "0   0.000000  3.171485  3.642773  3.131062  5.535559  4.564219  4.071671   \n",
      "1   5.580969  0.000000  4.722729  4.163719  7.788163  5.940244  6.546642   \n",
      "2   6.079255  4.749728  0.000000  4.156092  7.802845  5.920361  6.946451   \n",
      "3   6.169171  4.792345  4.757719  0.000000  8.297856  6.083480  7.143760   \n",
      "4   1.517110  1.360230  1.347913  1.241297  0.000000  1.364191  1.729315   \n",
      "5   4.932307  3.898849  3.851967  3.413459  5.750728  0.000000  5.616745   \n",
      "6   1.824201  1.889689  2.262499  1.858181  3.500294  3.001187  0.000000   \n",
      "7   4.808357  3.910182  4.345844  3.785433  6.654284  5.435639  5.024878   \n",
      "8   5.879133  4.813786  4.652625  4.216658  7.479441  5.888449  6.295653   \n",
      "9   6.101975  4.917642  4.899014  4.033582  7.948546  6.016852  6.596235   \n",
      "10  0.869049  0.712429  0.691673  0.630108  0.595522  0.739734  0.903020   \n",
      "11  4.771026  3.817725  3.719148  3.310951  5.381423  3.179186  5.000946   \n",
      "12  2.727360  3.196708  3.508896  3.045432  5.289899  4.433856  4.196488   \n",
      "13  5.642934  4.343297  4.820294  4.253692  7.396716  5.814256  6.416052   \n",
      "14  6.011509  4.902681  4.698112  4.255451  7.397756  5.807463  6.698252   \n",
      "15  6.098547  4.880065  4.842153  4.022867  7.805636  5.797790  6.938683   \n",
      "16  1.285540  1.074703  1.028850  0.946622  0.774991  1.084818  1.384166   \n",
      "17  4.309666  3.468850  3.335618  3.006123  4.763028  2.900390  4.654697   \n",
      "\n",
      "          7         8         9         10        11        12        13  \\\n",
      "0   3.665577  3.809745  3.455765  5.726108  4.846515  3.064857  3.667780   \n",
      "1   5.176886  5.153883  4.680915  7.978971  6.302698  5.943688  4.777626   \n",
      "2   5.639547  5.019720  4.689286  7.985214  6.231119  6.282875  5.281622   \n",
      "3   5.680762  5.185379  4.425481  8.525275  6.424549  6.421038  5.316647   \n",
      "4   1.493055  1.391604  1.283886  1.434132  1.438463  1.608946  1.403112   \n",
      "5   4.660948  4.187150  3.738730  5.964881  3.622763  5.139441  4.207191   \n",
      "6   1.634629  1.978796  1.702555  3.512610  2.828966  2.286515  2.193429   \n",
      "7   0.000000  3.607786  3.251353  6.695196  4.884910  4.996116  4.423074   \n",
      "8   4.534394  0.000000  3.618085  7.574951  5.305315  5.950032  5.071163   \n",
      "9   4.754783  4.194908  0.000000  8.096152  5.614295  6.220182  5.185314   \n",
      "10  0.695357  0.648505  0.592883  0.000000  0.687707  0.859231  0.711982   \n",
      "11  3.666642  3.160439  2.892596  5.469277  0.000000  4.728910  3.846738   \n",
      "12  3.515840  3.543148  3.236475  5.378793  4.466902  0.000000  2.735954   \n",
      "13  5.255448  4.976929  4.514258  7.544195  5.897382  5.048604  0.000000   \n",
      "14  5.479950  5.048617  4.552951  7.550610  5.890332  5.424489  4.118952   \n",
      "15  5.523880  5.038971  4.417646  8.008757  5.942622  5.597501  4.189698   \n",
      "16  1.155784  1.034025  0.962958  1.389413  1.081892  1.143494  0.964936   \n",
      "17  3.875518  3.428862  3.117697  4.885320  3.333022  3.880458  2.898949   \n",
      "\n",
      "          14        15        16        17  \n",
      "0   4.019427  3.582959  5.680683  5.064658  \n",
      "1   5.320083  4.773961  7.879329  6.633326  \n",
      "2   5.142513  4.763047  7.860475  6.527092  \n",
      "3   5.301478  4.545388  8.379874  6.799224  \n",
      "4   1.387225  1.271599  1.151685  1.499571  \n",
      "5   4.183471  3.650291  5.848049  4.023470  \n",
      "6   2.458701  2.175625  3.531839  3.162220  \n",
      "7   4.630648  4.151071  6.693706  5.773290  \n",
      "8   5.125924  4.592770  7.498556  6.253242  \n",
      "9   5.207080  4.548268  8.004312  6.518900  \n",
      "10  0.701469  0.636110  0.927497  0.783253  \n",
      "11  3.822762  3.351545  5.401546  4.012525  \n",
      "12  3.094911  2.744417  5.201141  4.297954  \n",
      "13  4.102025  3.649264  7.335234  5.629096  \n",
      "14  0.000000  3.665703  7.339207  5.624018  \n",
      "15  4.189209  0.000000  7.790890  5.863516  \n",
      "16  0.951983  0.880159  0.000000  1.038780  \n",
      "17  2.876945  2.592936  4.678931  0.000000  \n",
      "\n",
      "Functional Dependencies:\n",
      "% DIV 1 <- []\n",
      "% DIV 2 <- []\n",
      "% DIV 3 <- []\n",
      "% DIV 4 <- []\n",
      "% DIV 7 <- []\n",
      "% DIV 9 <- []\n",
      "FEMALE % DIV1  <- []\n",
      "FEMALE % DIV2 <- []\n",
      "FEMALE % DIV3 <- []\n",
      "FEMALE % DIV4 <- []\n",
      "FEMALE % DIV7 <- ['% DIV 7', 'FEMALE % DIV4']\n",
      "FEMALE % DIV9 <- []\n",
      "MALE % DIV1  <- []\n",
      "MALE % DIV2 <- []\n",
      "MALE % DIV3 <- []\n",
      "MALE % DIV4  <- []\n",
      "MALE % DIV7 <- []\n",
      "MALE % DIV9 <- []\n"
     ]
    }
   ],
   "source": [
    "print(\"Conditional Entropy Matrix:\")\n",
    "print(pd.DataFrame(entropy_matrix))\n",
    "print(\"\\nFunctional Dependencies:\")\n",
    "for key, value in dependencies.items():\n",
    "    print(f\"{key} <- {value}\")\n"
   ]
  }
 ],
 "metadata": {
  "kernelspec": {
   "display_name": "crosswalk",
   "language": "python",
   "name": "python3"
  },
  "language_info": {
   "codemirror_mode": {
    "name": "ipython",
    "version": 3
   },
   "file_extension": ".py",
   "mimetype": "text/x-python",
   "name": "python",
   "nbconvert_exporter": "python",
   "pygments_lexer": "ipython3",
   "version": "3.8.15"
  }
 },
 "nbformat": 4,
 "nbformat_minor": 2
}
