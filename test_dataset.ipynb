{
 "cells": [
  {
   "cell_type": "code",
   "execution_count": 1,
   "metadata": {},
   "outputs": [
    {
     "name": "stdout",
     "output_type": "stream",
     "text": [
      "\n",
      "Conditional Entropy Matrix:\n",
      "     A    B\n",
      "A  0.0  0.0\n",
      "B  0.0  0.0\n",
      "\n",
      "Functional Dependencies:\n",
      "A <- ['B']\n",
      "B <- ['A']\n"
     ]
    }
   ],
   "source": [
    "from detectFD import calculate_conditional_entropy_matrix, discover_functional_dependencies\n",
    "import pandas as pd\n",
    "import numpy as np\n",
    "from sklearn.preprocessing import LabelEncoder\n",
    "from scipy.stats import entropy\n",
    "import seaborn as sns\n",
    "import matplotlib.pyplot as plt\n"
   ]
  },
  {
   "cell_type": "markdown",
   "metadata": {},
   "source": [
    "Let's first create a synthetic dataset with clear functional dependencies to test out the implementation.\n",
    "\n",
    "A->B: where B is x2 the value of A\n",
    "\n",
    "F->G: G is F+10\n",
    "\n",
    "C,D -> E: E is the concatenation of C and D"
   ]
  },
  {
   "cell_type": "code",
   "execution_count": 2,
   "metadata": {},
   "outputs": [],
   "source": [
    "n_rows = 100\n",
    "df = pd.DataFrame({'A': np.random.randint(1, 4, n_rows)})\n",
    "\n",
    "df['B'] = df['A'] * 2\n",
    "\n",
    "df['C'] = np.random.randint(1, 4, n_rows)\n",
    "df['D'] = np.random.randint(1, 4, n_rows)\n",
    "\n",
    "df['E'] = df['C'].astype(str) + df['D'].astype(str)\n",
    "\n",
    "df['F'] = np.random.randint(1, 4, n_rows)\n",
    "df['G'] = df['F'] + 10"
   ]
  },
  {
   "cell_type": "code",
   "execution_count": 3,
   "metadata": {},
   "outputs": [],
   "source": [
    "# Calculate entropy matrix and find dependencies\n",
    "feature_names = list(df.columns)\n",
    "entropy_matrix = calculate_conditional_entropy_matrix(df)\n",
    "dependencies = discover_functional_dependencies(entropy_matrix, feature_names)"
   ]
  },
  {
   "cell_type": "code",
   "execution_count": 4,
   "metadata": {},
   "outputs": [
    {
     "name": "stdout",
     "output_type": "stream",
     "text": [
      "Conditional Entropy Matrix:\n",
      "          A         B         C         D         E         F         G\n",
      "A  0.000000  0.000000  1.548084  1.537774  1.449676  1.534810  1.534810\n",
      "B  0.000000  0.000000  1.548084  1.537774  1.449676  1.534810  1.534810\n",
      "C  1.513458  1.513458  0.000000  1.493018  0.000000  1.449939  1.449939\n",
      "D  1.527264  1.527264  1.517134  0.000000  0.000000  1.516136  1.516136\n",
      "E  2.932184  2.932184  1.517134  1.493018  0.000000  2.836431  2.836431\n",
      "F  1.552693  1.552693  1.502448  1.544530  1.371806  0.000000  0.000000\n",
      "G  1.552693  1.552693  1.502448  1.544530  1.371806  0.000000  0.000000\n",
      "\n",
      "Functional Dependencies:\n",
      "A <- ['B']\n",
      "B <- ['A']\n",
      "C <- ['E']\n",
      "D <- ['E']\n",
      "E <- []\n",
      "F <- ['G']\n",
      "G <- ['F']\n"
     ]
    }
   ],
   "source": [
    "print(\"Conditional Entropy Matrix:\")\n",
    "print(pd.DataFrame(entropy_matrix, columns=feature_names, index=feature_names))\n",
    "print(\"\\nFunctional Dependencies:\")\n",
    "for key, value in dependencies.items():\n",
    "    print(f\"{key} <- {value}\")"
   ]
  },
  {
   "cell_type": "markdown",
   "metadata": {},
   "source": [
    "Now let's try on a familiarly used dataset: the iris dataset that contains 4 functional dependencies"
   ]
  },
  {
   "cell_type": "code",
   "execution_count": 5,
   "metadata": {},
   "outputs": [],
   "source": [
    "#load and preprocess iris dataset\n",
    "iris_df = pd.read_csv('data/iris.csv', header=None)\n",
    "feature_names = ['sepal length', 'sepal width', 'petal length', 'petal width', 'species']\n",
    "iris_df.columns = feature_names"
   ]
  },
  {
   "cell_type": "code",
   "execution_count": 6,
   "metadata": {},
   "outputs": [],
   "source": [
    "entropy_matrix = calculate_conditional_entropy_matrix(iris_df)\n",
    "dependencies = discover_functional_dependencies(entropy_matrix, feature_names)"
   ]
  },
  {
   "cell_type": "code",
   "execution_count": 7,
   "metadata": {},
   "outputs": [
    {
     "name": "stdout",
     "output_type": "stream",
     "text": [
      "Conditional Entropy Matrix:\n",
      "              sepal length  sepal width  petal length  petal width   species\n",
      "sepal length      0.000000     2.725279      1.814859     2.560465  3.945080\n",
      "sepal width       1.914971     0.000000      1.788192     2.318035  3.500840\n",
      "petal length      2.026670     2.810312      0.000000     2.324832  3.587513\n",
      "petal width       1.804110     2.371988      1.356665     0.000000  2.629765\n",
      "species           0.708025     1.074093      0.138646     0.149065  0.000000\n",
      "\n",
      "Functional Dependencies:\n",
      "sepal length <- []\n",
      "sepal width <- []\n",
      "petal length <- []\n",
      "petal width <- []\n",
      "species <- []\n"
     ]
    }
   ],
   "source": [
    "print(\"Conditional Entropy Matrix:\")\n",
    "print(pd.DataFrame(entropy_matrix, columns=feature_names, index=feature_names))\n",
    "print(\"\\nFunctional Dependencies:\")\n",
    "for key, value in dependencies.items():\n",
    "    print(f\"{key} <- {value}\")"
   ]
  },
  {
   "cell_type": "markdown",
   "metadata": {},
   "source": [
    "Let's study the case of the uce dataset"
   ]
  },
  {
   "cell_type": "code",
   "execution_count": 8,
   "metadata": {},
   "outputs": [],
   "source": [
    "df = pd.read_csv('data/uce-results-by-school-2011-2015.csv')\n",
    "\n",
    "#select only div columns\n",
    "div_columns = [col for col in df.columns if 'DIV' in col and '%' in col]\n",
    "div_df = df[div_columns].copy()\n",
    "\n",
    "#remove % and convert to numeric\n",
    "for col in div_df.columns:\n",
    "    div_df[col] = pd.to_numeric(div_df[col].astype(str).str.replace('%', ''), errors='coerce')"
   ]
  },
  {
   "cell_type": "code",
   "execution_count": 12,
   "metadata": {},
   "outputs": [],
   "source": [
    "entropy_matrix = calculate_conditional_entropy_matrix(div_df)\n",
    "dependencies = discover_functional_dependencies(entropy_matrix, div_df.columns)"
   ]
  },
  {
   "cell_type": "code",
   "execution_count": 13,
   "metadata": {},
   "outputs": [
    {
     "name": "stdout",
     "output_type": "stream",
     "text": [
      "Conditional Entropy Matrix:\n",
      "          0         1         2         3         4         5         6   \\\n",
      "0   0.000000  3.171485  3.642773  3.131062  5.535559  4.564219  4.071671   \n",
      "1   5.580969  0.000000  4.722729  4.163719  7.788163  5.940244  6.546642   \n",
      "2   6.079255  4.749728  0.000000  4.156092  7.802845  5.920361  6.946451   \n",
      "3   6.169171  4.792345  4.757719  0.000000  8.297856  6.083480  7.143760   \n",
      "4   1.517110  1.360230  1.347913  1.241297  0.000000  1.364191  1.729315   \n",
      "5   4.932307  3.898849  3.851967  3.413459  5.750728  0.000000  5.616745   \n",
      "6   1.824201  1.889689  2.262499  1.858181  3.500294  3.001187  0.000000   \n",
      "7   4.808357  3.910182  4.345844  3.785433  6.654284  5.435639  5.024878   \n",
      "8   5.879133  4.813786  4.652625  4.216658  7.479441  5.888449  6.295653   \n",
      "9   6.101975  4.917642  4.899014  4.033582  7.948546  6.016852  6.596235   \n",
      "10  0.869049  0.712429  0.691673  0.630108  0.595522  0.739734  0.903020   \n",
      "11  4.771026  3.817725  3.719148  3.310951  5.381423  3.179186  5.000946   \n",
      "12  2.727360  3.196708  3.508896  3.045432  5.289899  4.433856  4.196488   \n",
      "13  5.642934  4.343297  4.820294  4.253692  7.396716  5.814256  6.416052   \n",
      "14  6.011509  4.902681  4.698112  4.255451  7.397756  5.807463  6.698252   \n",
      "15  6.098547  4.880065  4.842153  4.022867  7.805636  5.797790  6.938683   \n",
      "16  1.285540  1.074703  1.028850  0.946622  0.774991  1.084818  1.384166   \n",
      "17  4.309666  3.468850  3.335618  3.006123  4.763028  2.900390  4.654697   \n",
      "\n",
      "          7         8         9         10        11        12        13  \\\n",
      "0   3.665577  3.809745  3.455765  5.726108  4.846515  3.064857  3.667780   \n",
      "1   5.176886  5.153883  4.680915  7.978971  6.302698  5.943688  4.777626   \n",
      "2   5.639547  5.019720  4.689286  7.985214  6.231119  6.282875  5.281622   \n",
      "3   5.680762  5.185379  4.425481  8.525275  6.424549  6.421038  5.316647   \n",
      "4   1.493055  1.391604  1.283886  1.434132  1.438463  1.608946  1.403112   \n",
      "5   4.660948  4.187150  3.738730  5.964881  3.622763  5.139441  4.207191   \n",
      "6   1.634629  1.978796  1.702555  3.512610  2.828966  2.286515  2.193429   \n",
      "7   0.000000  3.607786  3.251353  6.695196  4.884910  4.996116  4.423074   \n",
      "8   4.534394  0.000000  3.618085  7.574951  5.305315  5.950032  5.071163   \n",
      "9   4.754783  4.194908  0.000000  8.096152  5.614295  6.220182  5.185314   \n",
      "10  0.695357  0.648505  0.592883  0.000000  0.687707  0.859231  0.711982   \n",
      "11  3.666642  3.160439  2.892596  5.469277  0.000000  4.728910  3.846738   \n",
      "12  3.515840  3.543148  3.236475  5.378793  4.466902  0.000000  2.735954   \n",
      "13  5.255448  4.976929  4.514258  7.544195  5.897382  5.048604  0.000000   \n",
      "14  5.479950  5.048617  4.552951  7.550610  5.890332  5.424489  4.118952   \n",
      "15  5.523880  5.038971  4.417646  8.008757  5.942622  5.597501  4.189698   \n",
      "16  1.155784  1.034025  0.962958  1.389413  1.081892  1.143494  0.964936   \n",
      "17  3.875518  3.428862  3.117697  4.885320  3.333022  3.880458  2.898949   \n",
      "\n",
      "          14        15        16        17  \n",
      "0   4.019427  3.582959  5.680683  5.064658  \n",
      "1   5.320083  4.773961  7.879329  6.633326  \n",
      "2   5.142513  4.763047  7.860475  6.527092  \n",
      "3   5.301478  4.545388  8.379874  6.799224  \n",
      "4   1.387225  1.271599  1.151685  1.499571  \n",
      "5   4.183471  3.650291  5.848049  4.023470  \n",
      "6   2.458701  2.175625  3.531839  3.162220  \n",
      "7   4.630648  4.151071  6.693706  5.773290  \n",
      "8   5.125924  4.592770  7.498556  6.253242  \n",
      "9   5.207080  4.548268  8.004312  6.518900  \n",
      "10  0.701469  0.636110  0.927497  0.783253  \n",
      "11  3.822762  3.351545  5.401546  4.012525  \n",
      "12  3.094911  2.744417  5.201141  4.297954  \n",
      "13  4.102025  3.649264  7.335234  5.629096  \n",
      "14  0.000000  3.665703  7.339207  5.624018  \n",
      "15  4.189209  0.000000  7.790890  5.863516  \n",
      "16  0.951983  0.880159  0.000000  1.038780  \n",
      "17  2.876945  2.592936  4.678931  0.000000  \n",
      "\n",
      "Functional Dependencies:\n",
      "% DIV 1 <- []\n",
      "% DIV 2 <- []\n",
      "% DIV 3 <- []\n",
      "% DIV 4 <- []\n",
      "% DIV 7 <- []\n",
      "% DIV 9 <- []\n",
      "FEMALE % DIV1  <- []\n",
      "FEMALE % DIV2 <- []\n",
      "FEMALE % DIV3 <- []\n",
      "FEMALE % DIV4 <- []\n",
      "FEMALE % DIV7 <- []\n",
      "FEMALE % DIV9 <- []\n",
      "MALE % DIV1  <- []\n",
      "MALE % DIV2 <- []\n",
      "MALE % DIV3 <- []\n",
      "MALE % DIV4  <- []\n",
      "MALE % DIV7 <- []\n",
      "MALE % DIV9 <- []\n"
     ]
    }
   ],
   "source": [
    "print(\"Conditional Entropy Matrix:\")\n",
    "print(pd.DataFrame(entropy_matrix))\n",
    "print(\"\\nFunctional Dependencies:\")\n",
    "for key, value in dependencies.items():\n",
    "    print(f\"{key} <- {value}\")\n"
   ]
  }
 ],
 "metadata": {
  "kernelspec": {
   "display_name": "crosswalk",
   "language": "python",
   "name": "python3"
  },
  "language_info": {
   "codemirror_mode": {
    "name": "ipython",
    "version": 3
   },
   "file_extension": ".py",
   "mimetype": "text/x-python",
   "name": "python",
   "nbconvert_exporter": "python",
   "pygments_lexer": "ipython3",
   "version": "3.8.15"
  }
 },
 "nbformat": 4,
 "nbformat_minor": 2
}
